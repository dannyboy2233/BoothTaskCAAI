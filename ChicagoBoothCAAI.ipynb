{
 "cells": [
  {
   "cell_type": "markdown",
   "metadata": {},
   "source": [
    "# Title: ChicagoBoothCAAI\n",
    "# Author: Daniel Cohen, UC Berkeley\n",
    "# Date: 11/17/20\n",
    "# Description: Analysis task for UChicago Booth School of Business CAAI Predoctoral Fellowship"
   ]
  },
  {
   "cell_type": "markdown",
   "metadata": {},
   "source": [
    "### Setup"
   ]
  },
  {
   "cell_type": "code",
   "execution_count": 208,
   "metadata": {},
   "outputs": [],
   "source": [
    "# load important libraries \n",
    "\n",
    "import numpy as np               # numerical utility functions\n",
    "import pandas as pd              # data storage and manipulation\n",
    "from scipy.io import loadmat     # to read in imdb.mat, wiki.mat\n",
    "import datetime as dt            # for converting Matlab serial to date\n",
    "import matplotlib.pyplot as plt  # plotting infrastructure\n",
    "import seaborn as sns            # clean visualizations\n"
   ]
  },
  {
   "cell_type": "markdown",
   "metadata": {},
   "source": [
    "### Load and extract data"
   ]
  },
  {
   "cell_type": "code",
   "execution_count": 216,
   "metadata": {},
   "outputs": [],
   "source": [
    "# read in IMDB data\n",
    "\n",
    "imdb_mat = loadmat('imdb.mat')\n",
    "imdb = imdb_mat['imdb'][0][0]\n",
    "\n",
    "# read in Wiki data\n",
    "\n",
    "wiki_mat = loadmat('wiki.mat')\n",
    "wiki = wiki_mat['wiki'][0][0]\n"
   ]
  },
  {
   "cell_type": "code",
   "execution_count": 237,
   "metadata": {},
   "outputs": [],
   "source": [
    "# extract dates of birth\n",
    "\n",
    "dob_imdb_matlab_serial = imdb[0][0]\n",
    "dob_imdb = (pd.Series(dob_imdb_matlab_serial)\n",
    "            .apply(dt.date.fromordinal)\n",
    "            .apply(lambda x: x.year)\n",
    "            .astype(int)\n",
    "            .rename('dob'))\n",
    "\n",
    "dob_wiki_matlab_serial = wiki[0][0]\n",
    "dob_wiki = (pd.Series(dob_wiki_matlab_serial)\n",
    "            .apply(dt.date.fromordinal)\n",
    "            .apply(lambda x: x.year)\n",
    "            .astype(int)\n",
    "            .rename('dob'))\n",
    "\n"
   ]
  },
  {
   "cell_type": "code",
   "execution_count": 238,
   "metadata": {},
   "outputs": [],
   "source": [
    "# extract years of photo\n",
    "\n",
    "yr_of_photo_imdb = (pd.Series(imdb[1][0])\n",
    "                    .astype(int)\n",
    "                    .rename('yr_of_photo'))\n",
    "\n",
    "yr_of_photo_wiki = (pd.Series(wiki[1][0])\n",
    "                    .astype(int)\n",
    "                    .rename('yr_of_photo'))\n"
   ]
  },
  {
   "cell_type": "code",
   "execution_count": 239,
   "metadata": {},
   "outputs": [],
   "source": [
    "# extract genders \n",
    "\n",
    "genders_imdb = (pd.Series(imdb[3][0])\n",
    "                .apply(lambda x: 'Male' if x == 1 else 'Female')\n",
    "                .rename('gender'))\n",
    "\n",
    "genders_wiki = (pd.Series(wiki[3][0])\n",
    "                .apply(lambda x: 'Male' if x == 1 else 'Female')\n",
    "                .rename('gender'))\n"
   ]
  },
  {
   "cell_type": "markdown",
   "metadata": {},
   "source": [
    "### Combine, analyze, and clean data"
   ]
  },
  {
   "cell_type": "code",
   "execution_count": 240,
   "metadata": {},
   "outputs": [],
   "source": [
    "# combine together into pandas DataFrame\n",
    "\n",
    "imdb_df = (pd.DataFrame(dob_imdb).merge(pd.DataFrame(yr_of_photo_imdb), left_index=True, right_index=True)\n",
    "           .merge(pd.DataFrame(genders_imdb), left_index=True, right_index=True))\n",
    "\n",
    "wiki_df = (pd.DataFrame(dob_wiki).merge(pd.DataFrame(yr_of_photo_wiki), left_index=True, right_index=True)\n",
    "           .merge(pd.DataFrame(genders_wiki), left_index=True, right_index=True))\n",
    "\n",
    "wiki_imdb_df = pd.concat([imdb_df, wiki_df])\n"
   ]
  },
  {
   "cell_type": "code",
   "execution_count": 241,
   "metadata": {},
   "outputs": [],
   "source": [
    "# create column for age\n",
    "\n",
    "wiki_imdb_df['age'] = wiki_imdb_df['yr_of_photo'] - wiki_imdb_df['dob']\n"
   ]
  },
  {
   "cell_type": "code",
   "execution_count": 242,
   "metadata": {},
   "outputs": [],
   "source": [
    "# remove observations where date of birth = 1;\n",
    "# these observations are clearly coded for removal\n",
    "\n",
    "wiki_imdb_df = wiki_imdb_df.loc[wiki_imdb_df['dob'] != 1]\n"
   ]
  },
  {
   "cell_type": "code",
   "execution_count": 243,
   "metadata": {},
   "outputs": [],
   "source": [
    "# remove observations with negative ages (i.e. date of birth after time photo taken)\n",
    "\n",
    "wiki_imdb_df = wiki_imdb_df.loc[wiki_imdb_df['age'] > 0]\n"
   ]
  },
  {
   "cell_type": "code",
   "execution_count": 244,
   "metadata": {},
   "outputs": [],
   "source": [
    "# remove outliers with age greater than 120, \n",
    "# which I'm using as a generous upper bound on age.\n",
    "\n",
    "wiki_imdb_df = wiki_imdb_df.loc[wiki_imdb_df['age'] < 121]\n"
   ]
  },
  {
   "cell_type": "markdown",
   "metadata": {},
   "source": [
    "### Answering questions from document"
   ]
  },
  {
   "cell_type": "code",
   "execution_count": 245,
   "metadata": {},
   "outputs": [],
   "source": [
    "# number in specific age bin\n",
    "\n",
    "num_15_25 = len(wiki_imdb_df.loc[(wiki_imdb_df['age'] >= 15) & (wiki_imdb_df['age'] < 25)])\n"
   ]
  },
  {
   "cell_type": "code",
   "execution_count": 246,
   "metadata": {},
   "outputs": [
    {
     "name": "stdout",
     "output_type": "stream",
     "text": [
      "The size of the bucket '15 to 25', assuming the lower bound is inclusive \n",
      "and the upper bound is exclusive, is 88494\n"
     ]
    }
   ],
   "source": [
    "print((f\"The size of the bucket '15 to 25', assuming the lower bound is inclusive \\n\" \n",
    "       f\"and the upper bound is exclusive, is {num_15_25}\"))\n"
   ]
  },
  {
   "cell_type": "code",
   "execution_count": 247,
   "metadata": {},
   "outputs": [],
   "source": [
    "# percent of specific gender and age \n",
    "\n",
    "percent_30M = (len(wiki_imdb_df.loc[(wiki_imdb_df['gender'] == 'Male') & \n",
    "                                    (wiki_imdb_df['age'] == 30)]) / len(wiki_imdb_df)) * 100\n"
   ]
  },
  {
   "cell_type": "code",
   "execution_count": 248,
   "metadata": {},
   "outputs": [
    {
     "name": "stdout",
     "output_type": "stream",
     "text": [
      "The percentage of the population that is '30 year-old males' is 1.94%\n"
     ]
    }
   ],
   "source": [
    "print(f\"The percentage of the population that is '30 year-old males' is {np.round(percent_30M, 2)}%\")\n"
   ]
  },
  {
   "cell_type": "markdown",
   "metadata": {},
   "source": [
    "### Visualization"
   ]
  },
  {
   "cell_type": "code",
   "execution_count": 250,
   "metadata": {},
   "outputs": [
    {
     "data": {
      "image/png": "[encoded data removed]",
      "text/plain": [
       "<Figure size 576x576 with 1 Axes>"
      ]
     },
     "metadata": {
      "needs_background": "light"
     },
     "output_type": "display_data"
    }
   ],
   "source": [
    "# plot ages \n",
    "\n",
    "fig, ax = plt.subplots(figsize=(8, 8))\n",
    "sns.distplot(wiki_imdb_df['age'], ax=ax);\n",
    "plt.title(\"Distribution of ages in IMDB-Wiki dataset\");\n",
    "plt.xlabel('Age');\n",
    "plt.ylabel('Proportion');\n",
    "plt.text(1.05 * max(wiki_imdb_df['age']), 0.039, \n",
    "         f\"N={len(wiki_imdb_df)}\", ha='right');\n"
   ]
  },
  {
   "cell_type": "code",
   "execution_count": 255,
   "metadata": {},
   "outputs": [],
   "source": [
    "# save image\n",
    "\n",
    "proj_dir = \"/Users/danielcohen/Documents/RA Applications/applications/mullainathan uchicago\"\n",
    "fig.savefig(f\"{proj_dir}/age_dist.png\")"
   ]
  },
  {
   "cell_type": "code",
   "execution_count": null,
   "metadata": {},
   "outputs": [],
   "source": []
  }
 ],
 "metadata": {
  "kernelspec": {
   "display_name": "Python 3",
   "language": "python",
   "name": "python3"
  },
  "language_info": {
   "codemirror_mode": {
    "name": "ipython",
    "version": 3
   },
   "file_extension": ".py",
   "mimetype": "text/x-python",
   "name": "python",
   "nbconvert_exporter": "python",
   "pygments_lexer": "ipython3",
   "version": "3.7.7"
  }
 },
 "nbformat": 4,
 "nbformat_minor": 4
}
